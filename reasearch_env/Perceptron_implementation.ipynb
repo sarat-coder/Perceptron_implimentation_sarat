{
 "cells": [
  {
   "cell_type": "code",
   "execution_count": 1,
   "id": "a2e8db39",
   "metadata": {},
   "outputs": [
    {
     "name": "stdout",
     "output_type": "stream",
     "text": [
      "Collecting joblib\n",
      "  Downloading joblib-1.1.0-py2.py3-none-any.whl (306 kB)\n",
      "Installing collected packages: joblib\n",
      "Successfully installed joblib-1.1.0\n"
     ]
    }
   ],
   "source": [
    "!pip install joblib # saving file as a binary"
   ]
  },
  {
   "cell_type": "code",
   "execution_count": 26,
   "id": "6298f061",
   "metadata": {},
   "outputs": [],
   "source": [
    "import os\n",
    "import matplotlib.pyplot as plt\n",
    "import joblib\n",
    "import numpy as np\n",
    "import pandas as pd\n",
    "plt.style.use(\"fivethirtyeight\")"
   ]
  },
  {
   "cell_type": "code",
   "execution_count": 3,
   "id": "9d4805b8",
   "metadata": {},
   "outputs": [
    {
     "data": {
      "text/plain": [
       "array([ 0.50025929, -0.33940635,  0.47618803])"
      ]
     },
     "execution_count": 3,
     "metadata": {},
     "output_type": "execute_result"
    }
   ],
   "source": [
    "np.random.randn(3)"
   ]
  },
  {
   "cell_type": "code",
   "execution_count": 14,
   "id": "4b4bfb73",
   "metadata": {},
   "outputs": [
    {
     "data": {
      "text/plain": [
       "array([[-1.],\n",
       "       [-1.],\n",
       "       [-1.],\n",
       "       [-1.]])"
      ]
     },
     "execution_count": 14,
     "metadata": {},
     "output_type": "execute_result"
    }
   ],
   "source": [
    "y=-np.ones((4,1))\n",
    "y"
   ]
  },
  {
   "cell_type": "code",
   "execution_count": 13,
   "id": "3100a26e",
   "metadata": {},
   "outputs": [
    {
     "data": {
      "text/plain": [
       "array([[1., 1.],\n",
       "       [1., 1.],\n",
       "       [1., 1.],\n",
       "       [1., 1.]])"
      ]
     },
     "execution_count": 13,
     "metadata": {},
     "output_type": "execute_result"
    }
   ],
   "source": [
    "x=np.ones((4,2))\n",
    "x"
   ]
  },
  {
   "cell_type": "code",
   "execution_count": 16,
   "id": "c0ab4476",
   "metadata": {},
   "outputs": [
    {
     "data": {
      "text/plain": [
       "array([[ 1.,  1., -1.],\n",
       "       [ 1.,  1., -1.],\n",
       "       [ 1.,  1., -1.],\n",
       "       [ 1.,  1., -1.]])"
      ]
     },
     "execution_count": 16,
     "metadata": {},
     "output_type": "execute_result"
    }
   ],
   "source": [
    "np.c_[x,y]"
   ]
  },
  {
   "cell_type": "code",
   "execution_count": 52,
   "id": "bf28e6df",
   "metadata": {},
   "outputs": [],
   "source": [
    "class perceptron:\n",
    "    def __init__(self,eta:float=None, epochs:int=None):\n",
    "        self.weights=np.random.randn(3)*1e-4  # keeping initial weights very small by mulptiplying with 10 to the power4\n",
    "        self.eta=eta  # Learning rates\n",
    "        self.epochs=epochs # iterations.\n",
    "        \n",
    "    def _z_outcome(self,inputs,weights):\n",
    "        return np.dot(inputs,weights)\n",
    "    \n",
    "    def activation(self,z):\n",
    "        return np.where(z>0,1,0)\n",
    "    \n",
    "    def fit(self,x,y):\n",
    "        self.x=x\n",
    "        self.y=y\n",
    "        x_with_bias=np.c_[self.x,-np.ones((len(self.x),1))]\n",
    "        print(f\"x with biases: \\n {x_with_bias}\")\n",
    "        \n",
    "        for epoch in range(self.epochs):\n",
    "            print(\"--\"*10)\n",
    "            print(f\"for epoch>>{epoch+1}\")\n",
    "            print(\"--\"*10)\n",
    "            z=self._z_outcome(x_with_bias,self.weights)\n",
    "            #print(f\"forwardpass: \\n {z}\")\n",
    "            y_hat=self.activation(z)\n",
    "            print(f\"prediction after forward pass:\\n{y_hat}\")\n",
    "            self.error=self.y-y_hat\n",
    "            print(f\"errors after forward pass:\\n{self.error}\")\n",
    "            self.weights=self.weights+self.eta*np.dot(x_with_bias.T,self.error)\n",
    "            print(f\"new updated weights after {epoch+1}/{self.epochs}:\\n{self.weights}\")\n",
    "    def prediction(self,x):\n",
    "        x_with_bias=np.c_[self.x,-np.ones((len(self.x),1))]\n",
    "        z=self._z_outcome(x_with_bias,self.weights)\n",
    "        return self.activation(z)\n",
    "    \n",
    "        \n",
    "    "
   ]
  },
  {
   "cell_type": "code",
   "execution_count": 53,
   "id": "498f0572",
   "metadata": {},
   "outputs": [
    {
     "data": {
      "text/html": [
       "<div>\n",
       "<style scoped>\n",
       "    .dataframe tbody tr th:only-of-type {\n",
       "        vertical-align: middle;\n",
       "    }\n",
       "\n",
       "    .dataframe tbody tr th {\n",
       "        vertical-align: top;\n",
       "    }\n",
       "\n",
       "    .dataframe thead th {\n",
       "        text-align: right;\n",
       "    }\n",
       "</style>\n",
       "<table border=\"1\" class=\"dataframe\">\n",
       "  <thead>\n",
       "    <tr style=\"text-align: right;\">\n",
       "      <th></th>\n",
       "      <th>x1</th>\n",
       "      <th>x2</th>\n",
       "      <th>y</th>\n",
       "    </tr>\n",
       "  </thead>\n",
       "  <tbody>\n",
       "    <tr>\n",
       "      <th>0</th>\n",
       "      <td>0</td>\n",
       "      <td>0</td>\n",
       "      <td>0</td>\n",
       "    </tr>\n",
       "    <tr>\n",
       "      <th>1</th>\n",
       "      <td>0</td>\n",
       "      <td>1</td>\n",
       "      <td>1</td>\n",
       "    </tr>\n",
       "    <tr>\n",
       "      <th>2</th>\n",
       "      <td>1</td>\n",
       "      <td>0</td>\n",
       "      <td>1</td>\n",
       "    </tr>\n",
       "    <tr>\n",
       "      <th>3</th>\n",
       "      <td>1</td>\n",
       "      <td>1</td>\n",
       "      <td>1</td>\n",
       "    </tr>\n",
       "  </tbody>\n",
       "</table>\n",
       "</div>"
      ],
      "text/plain": [
       "   x1  x2  y\n",
       "0   0   0  0\n",
       "1   0   1  1\n",
       "2   1   0  1\n",
       "3   1   1  1"
      ]
     },
     "execution_count": 53,
     "metadata": {},
     "output_type": "execute_result"
    }
   ],
   "source": [
    "OR={\n",
    "    \"x1\":[0,0,1,1],\n",
    "    \"x2\":[0,1,0,1],\n",
    "    \"y\":[0,1,1,1]\n",
    "}\n",
    "\n",
    "df_or=pd.DataFrame(OR)\n",
    "df_or"
   ]
  },
  {
   "cell_type": "code",
   "execution_count": 54,
   "id": "700314ee",
   "metadata": {},
   "outputs": [],
   "source": [
    "def prepare_data(df,target_col=\"y\"):\n",
    "    x=df.drop(target_col,axis=1)\n",
    "    y=df[target_col]\n",
    "    return x,y"
   ]
  },
  {
   "cell_type": "code",
   "execution_count": 55,
   "id": "2d7e3b85",
   "metadata": {},
   "outputs": [
    {
     "name": "stdout",
     "output_type": "stream",
     "text": [
      "x with biases: \n",
      " [[ 0.  0. -1.]\n",
      " [ 0.  1. -1.]\n",
      " [ 1.  0. -1.]\n",
      " [ 1.  1. -1.]]\n",
      "--------------------\n",
      "for epoch>>1\n",
      "--------------------\n",
      "prediction after forward pass:\n",
      "[0 0 1 0]\n",
      "errors after forward pass:\n",
      "0    0\n",
      "1    1\n",
      "2    0\n",
      "3    1\n",
      "Name: y, dtype: int64\n",
      "new updated weights after 1/10:\n",
      "[ 0.10001534  0.19997898 -0.1999879 ]\n",
      "--------------------\n",
      "for epoch>>2\n",
      "--------------------\n",
      "prediction after forward pass:\n",
      "[1 1 1 1]\n",
      "errors after forward pass:\n",
      "0   -1\n",
      "1    0\n",
      "2    0\n",
      "3    0\n",
      "Name: y, dtype: int64\n",
      "new updated weights after 2/10:\n",
      "[ 0.10001534  0.19997898 -0.0999879 ]\n",
      "--------------------\n",
      "for epoch>>3\n",
      "--------------------\n",
      "prediction after forward pass:\n",
      "[1 1 1 1]\n",
      "errors after forward pass:\n",
      "0   -1\n",
      "1    0\n",
      "2    0\n",
      "3    0\n",
      "Name: y, dtype: int64\n",
      "new updated weights after 3/10:\n",
      "[1.00015336e-01 1.99978979e-01 1.21001019e-05]\n",
      "--------------------\n",
      "for epoch>>4\n",
      "--------------------\n",
      "prediction after forward pass:\n",
      "[0 1 1 1]\n",
      "errors after forward pass:\n",
      "0    0\n",
      "1    0\n",
      "2    0\n",
      "3    0\n",
      "Name: y, dtype: int64\n",
      "new updated weights after 4/10:\n",
      "[1.00015336e-01 1.99978979e-01 1.21001019e-05]\n",
      "--------------------\n",
      "for epoch>>5\n",
      "--------------------\n",
      "prediction after forward pass:\n",
      "[0 1 1 1]\n",
      "errors after forward pass:\n",
      "0    0\n",
      "1    0\n",
      "2    0\n",
      "3    0\n",
      "Name: y, dtype: int64\n",
      "new updated weights after 5/10:\n",
      "[1.00015336e-01 1.99978979e-01 1.21001019e-05]\n",
      "--------------------\n",
      "for epoch>>6\n",
      "--------------------\n",
      "prediction after forward pass:\n",
      "[0 1 1 1]\n",
      "errors after forward pass:\n",
      "0    0\n",
      "1    0\n",
      "2    0\n",
      "3    0\n",
      "Name: y, dtype: int64\n",
      "new updated weights after 6/10:\n",
      "[1.00015336e-01 1.99978979e-01 1.21001019e-05]\n",
      "--------------------\n",
      "for epoch>>7\n",
      "--------------------\n",
      "prediction after forward pass:\n",
      "[0 1 1 1]\n",
      "errors after forward pass:\n",
      "0    0\n",
      "1    0\n",
      "2    0\n",
      "3    0\n",
      "Name: y, dtype: int64\n",
      "new updated weights after 7/10:\n",
      "[1.00015336e-01 1.99978979e-01 1.21001019e-05]\n",
      "--------------------\n",
      "for epoch>>8\n",
      "--------------------\n",
      "prediction after forward pass:\n",
      "[0 1 1 1]\n",
      "errors after forward pass:\n",
      "0    0\n",
      "1    0\n",
      "2    0\n",
      "3    0\n",
      "Name: y, dtype: int64\n",
      "new updated weights after 8/10:\n",
      "[1.00015336e-01 1.99978979e-01 1.21001019e-05]\n",
      "--------------------\n",
      "for epoch>>9\n",
      "--------------------\n",
      "prediction after forward pass:\n",
      "[0 1 1 1]\n",
      "errors after forward pass:\n",
      "0    0\n",
      "1    0\n",
      "2    0\n",
      "3    0\n",
      "Name: y, dtype: int64\n",
      "new updated weights after 9/10:\n",
      "[1.00015336e-01 1.99978979e-01 1.21001019e-05]\n",
      "--------------------\n",
      "for epoch>>10\n",
      "--------------------\n",
      "prediction after forward pass:\n",
      "[0 1 1 1]\n",
      "errors after forward pass:\n",
      "0    0\n",
      "1    0\n",
      "2    0\n",
      "3    0\n",
      "Name: y, dtype: int64\n",
      "new updated weights after 10/10:\n",
      "[1.00015336e-01 1.99978979e-01 1.21001019e-05]\n"
     ]
    }
   ],
   "source": [
    "x,y=prepare_data(df_or)\n",
    "eta=0.1\n",
    "epochs=10\n",
    "model_or=perceptron(eta=eta,epochs=epochs)\n",
    "model_or.fit(x,y)"
   ]
  },
  {
   "cell_type": "code",
   "execution_count": 51,
   "id": "7212a231",
   "metadata": {},
   "outputs": [
    {
     "data": {
      "text/plain": [
       "array([0, 1, 1, 1])"
      ]
     },
     "execution_count": 51,
     "metadata": {},
     "output_type": "execute_result"
    }
   ],
   "source": [
    "model_or.prediction(x)"
   ]
  },
  {
   "cell_type": "code",
   "execution_count": null,
   "id": "933f5471",
   "metadata": {},
   "outputs": [],
   "source": []
  },
  {
   "cell_type": "code",
   "execution_count": 20,
   "id": "6dc98225",
   "metadata": {},
   "outputs": [],
   "source": [
    "obj=perceptron(eta=0.01,epochs=10)\n",
    "#print(perceptron.epochs,perceptron.eta,perceptron.weights)\n"
   ]
  },
  {
   "cell_type": "code",
   "execution_count": 23,
   "id": "b2abebda",
   "metadata": {},
   "outputs": [
    {
     "data": {
      "text/plain": [
       "(0.01, 10, array([1.21895769e-04, 3.20298212e-05, 7.59849560e-06]))"
      ]
     },
     "execution_count": 23,
     "metadata": {},
     "output_type": "execute_result"
    }
   ],
   "source": [
    "obj.eta,obj.epochs,obj.weights"
   ]
  },
  {
   "cell_type": "code",
   "execution_count": 25,
   "id": "f0884303",
   "metadata": {},
   "outputs": [
    {
     "name": "stdout",
     "output_type": "stream",
     "text": [
      "x with biases \n",
      " [[ 1.  1. -1.]\n",
      " [ 1.  1. -1.]\n",
      " [ 1.  1. -1.]\n",
      " [ 1.  1. -1.]]\n"
     ]
    }
   ],
   "source": [
    "obj.fit(x,y)"
   ]
  },
  {
   "cell_type": "code",
   "execution_count": null,
   "id": "da20d43b",
   "metadata": {},
   "outputs": [],
   "source": []
  }
 ],
 "metadata": {
  "kernelspec": {
   "display_name": "Python 3 (ipykernel)",
   "language": "python",
   "name": "python3"
  },
  "language_info": {
   "codemirror_mode": {
    "name": "ipython",
    "version": 3
   },
   "file_extension": ".py",
   "mimetype": "text/x-python",
   "name": "python",
   "nbconvert_exporter": "python",
   "pygments_lexer": "ipython3",
   "version": "3.7.11"
  }
 },
 "nbformat": 4,
 "nbformat_minor": 5
}
